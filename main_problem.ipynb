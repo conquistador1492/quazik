{
 "cells": [
  {
   "cell_type": "code",
   "execution_count": 1,
   "metadata": {},
   "outputs": [],
   "source": [
    "from qboard import Solver\n",
    "import numpy as np\n",
    "\n",
    "from config import PARAMS"
   ]
  },
  {
   "cell_type": "code",
   "execution_count": 2,
   "metadata": {},
   "outputs": [],
   "source": [
    "solver_name = 'dwave'\n",
    "s = Solver(mode=f\"remote:{solver_name}\", params=PARAMS)"
   ]
  },
  {
   "cell_type": "code",
   "execution_count": 3,
   "metadata": {},
   "outputs": [
    {
     "name": "stdout",
     "output_type": "stream",
     "text": [
      "[2021-10-23 17:56:21] Solver remote:dwave started\n",
      "[2021-10-23 17:56:21] Server status - 0 active tasks\n",
      "[2021-10-23 17:56:21] Start matrix upload\n",
      "[2021-10-23 17:56:21] Upload completed, start solving\n",
      "[2021-10-23 17:56:30] Found solution -5.321138 \n",
      "[2021-10-23 17:56:30] Solver completed, solution type - feasible \n"
     ]
    },
    {
     "data": {
      "text/plain": [
       "([1, 1, 1, 1, 1], -5.321137697166032)"
      ]
     },
     "execution_count": 3,
     "metadata": {},
     "output_type": "execute_result"
    }
   ],
   "source": [
    "Q = np.random.randn(5,5)\n",
    "\n",
    "spins, energy = s.solve_qubo(Q, timeout=30)\n",
    "spins, energy"
   ]
  },
  {
   "cell_type": "code",
   "execution_count": null,
   "metadata": {},
   "outputs": [],
   "source": []
  },
  {
   "cell_type": "code",
   "execution_count": 4,
   "metadata": {},
   "outputs": [],
   "source": [
    "NUMBER_CITIES = 5\n",
    "\n",
    "Q = np.zeros((NUMBER_CITIES**2, NUMBER_CITIES**2))\n",
    "w = np.array([\n",
    "    [0, 15, 17, 16, 16],\n",
    "    [15, 0, 3, 17, 4],\n",
    "    [17, 3, 0, 15, 3],\n",
    "    [16, 17, 15, 0, 12],\n",
    "    [16, 4, 3, 12, 0]\n",
    "])"
   ]
  },
  {
   "cell_type": "code",
   "execution_count": 5,
   "metadata": {},
   "outputs": [],
   "source": [
    "for j in range(NUMBER_CITIES):\n",
    "    for i in range(NUMBER_CITIES):\n",
    "        for k in range(NUMBER_CITIES):\n",
    "            Q[NUMBER_CITIES*i + j, NUMBER_CITIES*k + ((j + 1) % NUMBER_CITIES)] += w[i, k]"
   ]
  },
  {
   "cell_type": "code",
   "execution_count": 6,
   "metadata": {},
   "outputs": [],
   "source": [
    "fine1 = 20\n",
    "fine2 = 20\n",
    "\n",
    "for j in range(NUMBER_CITIES + 1):\n",
    "    for i in range(NUMBER_CITIES):\n",
    "        Q[NUMBER_CITIES*i + (j % NUMBER_CITIES), NUMBER_CITIES*i + (j % NUMBER_CITIES)] -= fine1\n",
    "        for k in range(i + 1, NUMBER_CITIES):\n",
    "            Q[NUMBER_CITIES*i + (j % NUMBER_CITIES), NUMBER_CITIES*k + (j % NUMBER_CITIES)] += 2*fine1\n",
    "            \n",
    "for i in range(NUMBER_CITIES):\n",
    "    for j in range(NUMBER_CITIES + 1):\n",
    "        Q[NUMBER_CITIES*i + (j % NUMBER_CITIES), NUMBER_CITIES*i + (j % NUMBER_CITIES)] -= fine2\n",
    "        for k in range(j + 1, NUMBER_CITIES + 1):\n",
    "            Q[NUMBER_CITIES*i + (j % NUMBER_CITIES), NUMBER_CITIES*i + (k % NUMBER_CITIES)] += 2*fine2"
   ]
  },
  {
   "cell_type": "code",
   "execution_count": 7,
   "metadata": {},
   "outputs": [
    {
     "name": "stdout",
     "output_type": "stream",
     "text": [
      "[2021-10-23 17:56:30] Found solution in cache -151.0\n"
     ]
    },
    {
     "data": {
      "text/plain": [
       "([1.0,\n",
       "  0.0,\n",
       "  0.0,\n",
       "  0.0,\n",
       "  0.0,\n",
       "  0.0,\n",
       "  1.0,\n",
       "  0.0,\n",
       "  0.0,\n",
       "  0.0,\n",
       "  0.0,\n",
       "  0.0,\n",
       "  1.0,\n",
       "  0.0,\n",
       "  0.0,\n",
       "  0.0,\n",
       "  0.0,\n",
       "  0.0,\n",
       "  0.0,\n",
       "  1.0,\n",
       "  0.0,\n",
       "  0.0,\n",
       "  0.0,\n",
       "  1.0,\n",
       "  0.0],\n",
       " -151.0)"
      ]
     },
     "execution_count": 7,
     "metadata": {},
     "output_type": "execute_result"
    }
   ],
   "source": [
    "spins, energy = s.solve_qubo(Q, timeout=30)\n",
    "spins, energy"
   ]
  },
  {
   "cell_type": "code",
   "execution_count": 8,
   "metadata": {},
   "outputs": [
    {
     "data": {
      "text/plain": [
       "array([[1., 0., 0., 0., 0.],\n",
       "       [0., 1., 0., 0., 0.],\n",
       "       [0., 0., 1., 0., 0.],\n",
       "       [0., 0., 0., 0., 1.],\n",
       "       [0., 0., 0., 1., 0.]])"
      ]
     },
     "execution_count": 8,
     "metadata": {},
     "output_type": "execute_result"
    }
   ],
   "source": [
    "x = np.array(spins).reshape((NUMBER_CITIES, NUMBER_CITIES))\n",
    "x"
   ]
  },
  {
   "cell_type": "code",
   "execution_count": 9,
   "metadata": {},
   "outputs": [
    {
     "name": "stdout",
     "output_type": "stream",
     "text": [
      "\n",
      "Path: 1->2->3->5->4->1\n"
     ]
    }
   ],
   "source": [
    "path = []\n",
    "for j in range(NUMBER_CITIES + 1):\n",
    "    for i in range(NUMBER_CITIES):\n",
    "        if x[i, j % NUMBER_CITIES] == 1:\n",
    "            path.append(str(i + 1))\n",
    "print(f\"\\nPath: {'->'.join(path)}\")"
   ]
  },
  {
   "cell_type": "code",
   "execution_count": 10,
   "metadata": {},
   "outputs": [],
   "source": [
    "number_to_cities = {\n",
    "    0: 'Краснопресненская', 1: 'Кропоткинская', 2: 'Библиотека им. Ленина',\n",
    "    3: 'Третьяковская', 4: 'Охотный ряд'\n",
    "}"
   ]
  },
  {
   "cell_type": "code",
   "execution_count": 11,
   "metadata": {},
   "outputs": [],
   "source": [
    "with open(f'results/solution_{solver_name}.csv', 'w') as pf:\n",
    "    csv_string = ','.join([number_to_cities[int(x) - 1] for x in path])\n",
    "    pf.write(csv_string)"
   ]
  },
  {
   "cell_type": "code",
   "execution_count": 13,
   "metadata": {},
   "outputs": [],
   "source": [
    "with open(f'results/adjacency_matrix', 'w') as pf:\n",
    "    pf.write(str(w))"
   ]
  },
  {
   "cell_type": "code",
   "execution_count": 14,
   "metadata": {},
   "outputs": [],
   "source": [
    "with open(f'results/qubo', 'w') as pf:\n",
    "    pf.write(str(Q))"
   ]
  },
  {
   "cell_type": "code",
   "execution_count": null,
   "metadata": {},
   "outputs": [],
   "source": []
  }
 ],
 "metadata": {
  "kernelspec": {
   "display_name": "quazik",
   "language": "python",
   "name": "quazik"
  },
  "language_info": {
   "codemirror_mode": {
    "name": "ipython",
    "version": 3
   },
   "file_extension": ".py",
   "mimetype": "text/x-python",
   "name": "python",
   "nbconvert_exporter": "python",
   "pygments_lexer": "ipython3",
   "version": "3.8.11"
  }
 },
 "nbformat": 4,
 "nbformat_minor": 4
}
