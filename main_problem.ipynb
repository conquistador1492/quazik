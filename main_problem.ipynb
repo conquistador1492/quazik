{
  "nbformat": 4,
  "nbformat_minor": 0,
  "metadata": {
    "kernelspec": {
      "display_name": "quazik",
      "language": "python",
      "name": "quazik"
    },
    "language_info": {
      "codemirror_mode": {
        "name": "ipython",
        "version": 3
      },
      "file_extension": ".py",
      "mimetype": "text/x-python",
      "name": "python",
      "nbconvert_exporter": "python",
      "pygments_lexer": "ipython3",
      "version": "3.8.11"
    },
    "colab": {
      "name": "main_problem.ipynb",
      "provenance": []
    }
  },
  "cells": [
    {
      "cell_type": "code",
      "metadata": {
        "id": "WrHRHAyCwNre"
      },
      "source": [
        "from qboard import Solver\n",
        "import numpy as np\n",
        "\n",
        "from config import PARAMS"
      ],
      "execution_count": null,
      "outputs": []
    },
    {
      "cell_type": "code",
      "metadata": {
        "id": "1OTixGySwNrl"
      },
      "source": [
        "solver_name = 'dwave'\n",
        "s = Solver(mode=f\"remote:{solver_name}\", params=PARAMS)"
      ],
      "execution_count": null,
      "outputs": []
    },
    {
      "cell_type": "code",
      "metadata": {
        "id": "pegIKHdSwNrm",
        "outputId": "4525612e-7622-4d47-d4bd-848f49df9709"
      },
      "source": [
        "Q = np.random.randn(5,5)\n",
        "\n",
        "spins, energy = s.solve_qubo(Q, timeout=30)\n",
        "spins, energy"
      ],
      "execution_count": null,
      "outputs": [
        {
          "name": "stdout",
          "output_type": "stream",
          "text": [
            "[2021-10-23 17:56:21] Solver remote:dwave started\n",
            "[2021-10-23 17:56:21] Server status - 0 active tasks\n",
            "[2021-10-23 17:56:21] Start matrix upload\n",
            "[2021-10-23 17:56:21] Upload completed, start solving\n",
            "[2021-10-23 17:56:30] Found solution -5.321138 \n",
            "[2021-10-23 17:56:30] Solver completed, solution type - feasible \n"
          ]
        },
        {
          "data": {
            "text/plain": [
              "([1, 1, 1, 1, 1], -5.321137697166032)"
            ]
          },
          "execution_count": 3,
          "metadata": {},
          "output_type": "execute_result"
        }
      ]
    },
    {
      "cell_type": "markdown",
      "metadata": {
        "id": "bJ95I3JJwiaR"
      },
      "source": [
        "$x_{ij} = 1$, если i-ый город посещён на j-ом шаге, соответсвующая переменная QUBO"
      ]
    },
    {
      "cell_type": "code",
      "metadata": {
        "id": "BPZRUqmSwNro"
      },
      "source": [
        "NUMBER_CITIES = 5\n",
        "\n",
        "Q = np.zeros((NUMBER_CITIES**2, NUMBER_CITIES**2))\n",
        "w = np.array([\n",
        "    [0, 15, 17, 16, 16],\n",
        "    [15, 0, 3, 17, 4],\n",
        "    [17, 3, 0, 15, 3],\n",
        "    [16, 17, 15, 0, 12],\n",
        "    [16, 4, 3, 12, 0]\n",
        "])"
      ],
      "execution_count": null,
      "outputs": []
    },
    {
      "cell_type": "markdown",
      "metadata": {
        "id": "hAQp8lNgwsp2"
      },
      "source": [
        "$\\sum_{j=0}^{N - 1} \\sum_{i,k=0}^{N - 1} w_{ik} x_{i,j} x_{k, j+1}$"
      ]
    },
    {
      "cell_type": "code",
      "metadata": {
        "id": "3V2-5504wNro"
      },
      "source": [
        "for j in range(NUMBER_CITIES):\n",
        "    for i in range(NUMBER_CITIES):\n",
        "        for k in range(NUMBER_CITIES):\n",
        "            Q[NUMBER_CITIES*i + j, NUMBER_CITIES*k + ((j + 1) % NUMBER_CITIES)] += w[i, k]"
      ],
      "execution_count": null,
      "outputs": []
    },
    {
      "cell_type": "markdown",
      "metadata": {
        "id": "o0FXkMVIwu8R"
      },
      "source": [
        "$\\sum_{j=0}^{N}\\left(\\sum_{i=0}^{N-1} x_{i j}-1\\right)^{2}+\\sum_{i=0}^{N-1}\\left(\\sum_{j=0}^{N} x_{i j}-1\\right)^{2}$.\n",
        "Заметим, что $(\\sum_i x_{ij} - 1)^2 = - \\sum_i x_{ij} + 2 \\sum_{i > k} x_{ij} x_{kj} + const$ "
      ]
    },
    {
      "cell_type": "code",
      "metadata": {
        "id": "j1_6pIr_wNrp"
      },
      "source": [
        "fine1 = 20\n",
        "fine2 = 20\n",
        "\n",
        "for j in range(NUMBER_CITIES + 1):\n",
        "    for i in range(NUMBER_CITIES):\n",
        "        Q[NUMBER_CITIES*i + (j % NUMBER_CITIES), NUMBER_CITIES*i + (j % NUMBER_CITIES)] -= fine1\n",
        "        for k in range(i + 1, NUMBER_CITIES):\n",
        "            Q[NUMBER_CITIES*i + (j % NUMBER_CITIES), NUMBER_CITIES*k + (j % NUMBER_CITIES)] += 2*fine1\n",
        "            \n",
        "for i in range(NUMBER_CITIES):\n",
        "    for j in range(NUMBER_CITIES + 1):\n",
        "        Q[NUMBER_CITIES*i + (j % NUMBER_CITIES), NUMBER_CITIES*i + (j % NUMBER_CITIES)] -= fine2\n",
        "        for k in range(j + 1, NUMBER_CITIES + 1):\n",
        "            Q[NUMBER_CITIES*i + (j % NUMBER_CITIES), NUMBER_CITIES*i + (k % NUMBER_CITIES)] += 2*fine2"
      ],
      "execution_count": null,
      "outputs": []
    },
    {
      "cell_type": "code",
      "metadata": {
        "id": "R8wyZ4IywNrq",
        "outputId": "e292b057-7489-4e35-a2a2-76c313750902"
      },
      "source": [
        "spins, energy = s.solve_qubo(Q, timeout=30)\n",
        "spins, energy"
      ],
      "execution_count": null,
      "outputs": [
        {
          "name": "stdout",
          "output_type": "stream",
          "text": [
            "[2021-10-23 17:56:30] Found solution in cache -151.0\n"
          ]
        },
        {
          "data": {
            "text/plain": [
              "([1.0,\n",
              "  0.0,\n",
              "  0.0,\n",
              "  0.0,\n",
              "  0.0,\n",
              "  0.0,\n",
              "  1.0,\n",
              "  0.0,\n",
              "  0.0,\n",
              "  0.0,\n",
              "  0.0,\n",
              "  0.0,\n",
              "  1.0,\n",
              "  0.0,\n",
              "  0.0,\n",
              "  0.0,\n",
              "  0.0,\n",
              "  0.0,\n",
              "  0.0,\n",
              "  1.0,\n",
              "  0.0,\n",
              "  0.0,\n",
              "  0.0,\n",
              "  1.0,\n",
              "  0.0],\n",
              " -151.0)"
            ]
          },
          "execution_count": 7,
          "metadata": {},
          "output_type": "execute_result"
        }
      ]
    },
    {
      "cell_type": "code",
      "metadata": {
        "id": "XzpOq-pRwNrr",
        "outputId": "ee04a08d-6204-4522-af4c-19b22508d7f5"
      },
      "source": [
        "x = np.array(spins).reshape((NUMBER_CITIES, NUMBER_CITIES))\n",
        "x"
      ],
      "execution_count": null,
      "outputs": [
        {
          "data": {
            "text/plain": [
              "array([[1., 0., 0., 0., 0.],\n",
              "       [0., 1., 0., 0., 0.],\n",
              "       [0., 0., 1., 0., 0.],\n",
              "       [0., 0., 0., 0., 1.],\n",
              "       [0., 0., 0., 1., 0.]])"
            ]
          },
          "execution_count": 8,
          "metadata": {},
          "output_type": "execute_result"
        }
      ]
    },
    {
      "cell_type": "code",
      "metadata": {
        "id": "EuJQdQs-wNrs",
        "outputId": "910c9944-2b85-4353-be08-16284afe6622"
      },
      "source": [
        "path = []\n",
        "for j in range(NUMBER_CITIES + 1):\n",
        "    for i in range(NUMBER_CITIES):\n",
        "        if x[i, j % NUMBER_CITIES] == 1:\n",
        "            path.append(str(i + 1))\n",
        "print(f\"\\nPath: {'->'.join(path)}\")"
      ],
      "execution_count": null,
      "outputs": [
        {
          "name": "stdout",
          "output_type": "stream",
          "text": [
            "\n",
            "Path: 1->2->3->5->4->1\n"
          ]
        }
      ]
    },
    {
      "cell_type": "code",
      "metadata": {
        "id": "gNpA3QQVwNrt"
      },
      "source": [
        "number_to_cities = {\n",
        "    0: 'Краснопресненская', 1: 'Кропоткинская', 2: 'Библиотека им. Ленина',\n",
        "    3: 'Третьяковская', 4: 'Охотный ряд'\n",
        "}"
      ],
      "execution_count": null,
      "outputs": []
    },
    {
      "cell_type": "code",
      "metadata": {
        "id": "JcI_FfsPwNrt"
      },
      "source": [
        "with open(f'results/solution_{solver_name}.csv', 'w') as pf:\n",
        "    csv_string = ','.join([number_to_cities[int(x) - 1] for x in path])\n",
        "    pf.write(csv_string)"
      ],
      "execution_count": null,
      "outputs": []
    },
    {
      "cell_type": "code",
      "metadata": {
        "id": "zvWVVE5RwNru"
      },
      "source": [
        "with open(f'results/adjacency_matrix', 'w') as pf:\n",
        "    pf.write(str(w))"
      ],
      "execution_count": null,
      "outputs": []
    },
    {
      "cell_type": "code",
      "metadata": {
        "id": "TZ7-Mkx9wNrv"
      },
      "source": [
        "with open(f'results/qubo', 'w') as pf:\n",
        "    pf.write(str(Q))"
      ],
      "execution_count": null,
      "outputs": []
    },
    {
      "cell_type": "code",
      "metadata": {
        "id": "kmaG230uwNrv"
      },
      "source": [
        ""
      ],
      "execution_count": null,
      "outputs": []
    }
  ]
}