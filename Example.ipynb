{
 "cells": [
  {
   "cell_type": "code",
   "execution_count": 1,
   "metadata": {},
   "outputs": [],
   "source": [
    "from qboard import Solver\n",
    "import numpy as np\n",
    "\n",
    "from config import PARAMS"
   ]
  },
  {
   "cell_type": "code",
   "execution_count": 2,
   "metadata": {},
   "outputs": [],
   "source": [
    "s = Solver(mode=\"remote:gurobi\", params=PARAMS)"
   ]
  },
  {
   "cell_type": "code",
   "execution_count": 3,
   "metadata": {},
   "outputs": [
    {
     "name": "stdout",
     "output_type": "stream",
     "text": [
      "[2021-10-23 15:49:08] Solver remote:gurobi started\n",
      "[2021-10-23 15:49:08] Server status - 0 active tasks\n",
      "[2021-10-23 15:49:08] Start matrix upload\n",
      "[2021-10-23 15:49:08] Upload completed, start solving\n",
      "[2021-10-23 15:49:09] Found solution 0.000000 \n",
      "[2021-10-23 15:49:09] Found solution -3.745649 \n",
      "[2021-10-23 15:49:09] Found solution -7.079519 mipgap=1.42751729269445\n",
      "[2021-10-23 15:49:09] Solver completed, solution type - optimal mipgap=0.0\n"
     ]
    },
    {
     "data": {
      "text/plain": [
       "([1, 1, 1, 0, 1], -7.079519220008906)"
      ]
     },
     "execution_count": 3,
     "metadata": {},
     "output_type": "execute_result"
    }
   ],
   "source": [
    "Q = np.random.randn(5,5)\n",
    "\n",
    "spins, energy = s.solve_qubo(Q, timeout=30)\n",
    "spins, energy"
   ]
  },
  {
   "cell_type": "code",
   "execution_count": null,
   "metadata": {},
   "outputs": [],
   "source": []
  },
  {
   "cell_type": "code",
   "execution_count": 40,
   "metadata": {},
   "outputs": [],
   "source": [
    "NUMBER_CITIES = 5\n",
    "\n",
    "Q = np.zeros((NUMBER_CITIES**2, NUMBER_CITIES**2))\n",
    "w = np.array([\n",
    "    [0, 15, 17, 16, 16],\n",
    "    [15, 0, 3, 17, 4],\n",
    "    [17, 3, 0, 15, 3],\n",
    "    [16, 17, 15, 0, 12],\n",
    "    [16, 4, 3, 12, 0]\n",
    "])"
   ]
  },
  {
   "cell_type": "code",
   "execution_count": 41,
   "metadata": {},
   "outputs": [],
   "source": [
    "for j in range(NUMBER_CITIES):\n",
    "    for i in range(NUMBER_CITIES):\n",
    "        for k in range(NUMBER_CITIES):\n",
    "            Q[NUMBER_CITIES*i + j, NUMBER_CITIES*k + ((j + 1) % NUMBER_CITIES)] += w[i, k]"
   ]
  },
  {
   "cell_type": "code",
   "execution_count": 42,
   "metadata": {},
   "outputs": [],
   "source": [
    "fine1 = 20\n",
    "fine2 = 20\n",
    "\n",
    "for j in range(NUMBER_CITIES + 1):\n",
    "    for i in range(NUMBER_CITIES):\n",
    "        Q[NUMBER_CITIES*i + (j % NUMBER_CITIES), NUMBER_CITIES*i + (j % NUMBER_CITIES)] -= fine1\n",
    "        for k in range(i + 1, NUMBER_CITIES):\n",
    "            Q[NUMBER_CITIES*i + (j % NUMBER_CITIES), NUMBER_CITIES*k + (j % NUMBER_CITIES)] += 2*fine1\n",
    "            \n",
    "for i in range(NUMBER_CITIES):\n",
    "    for j in range(NUMBER_CITIES + 1):\n",
    "        Q[NUMBER_CITIES*i + (j % NUMBER_CITIES), NUMBER_CITIES*i + (j % NUMBER_CITIES)] -= fine2\n",
    "        for k in range(j + 1, NUMBER_CITIES + 1):\n",
    "            Q[NUMBER_CITIES*i + (j % NUMBER_CITIES), NUMBER_CITIES*i + (k % NUMBER_CITIES)] += 2*fine2"
   ]
  },
  {
   "cell_type": "code",
   "execution_count": 43,
   "metadata": {},
   "outputs": [
    {
     "name": "stdout",
     "output_type": "stream",
     "text": [
      "[2021-10-23 16:05:48] Solver remote:gurobi started\n",
      "[2021-10-23 16:05:48] Server status - 0 active tasks\n",
      "[2021-10-23 16:05:48] Start matrix upload\n",
      "[2021-10-23 16:05:48] Upload completed, start solving\n",
      "[2021-10-23 16:05:50] Found solution 0.000000 \n",
      "[2021-10-23 16:05:50] Found solution -134.000000 \n",
      "[2021-10-23 16:05:50] Found solution -139.000000 \n",
      "[2021-10-23 16:05:50] Found solution -151.000000 mipgap=0.7194244604316546\n",
      "[2021-10-23 16:05:50] Solver completed, solution type - optimal mipgap=0.0\n"
     ]
    },
    {
     "data": {
      "text/plain": [
       "([0, 0, 0, 1, 0, 0, 0, 1, 0, 0, 0, 1, 0, 0, 0, 0, 0, 0, 0, 1, 1, 0, 0, 0, 0],\n",
       " -151.0)"
      ]
     },
     "execution_count": 43,
     "metadata": {},
     "output_type": "execute_result"
    }
   ],
   "source": [
    "spins, energy = s.solve_qubo(Q, timeout=30)\n",
    "spins, energy"
   ]
  },
  {
   "cell_type": "code",
   "execution_count": 44,
   "metadata": {},
   "outputs": [
    {
     "data": {
      "text/plain": [
       "array([[0, 0, 0, 1, 0],\n",
       "       [0, 0, 1, 0, 0],\n",
       "       [0, 1, 0, 0, 0],\n",
       "       [0, 0, 0, 0, 1],\n",
       "       [1, 0, 0, 0, 0]])"
      ]
     },
     "execution_count": 44,
     "metadata": {},
     "output_type": "execute_result"
    }
   ],
   "source": [
    "x = np.array(spins).reshape((NUMBER_CITIES, NUMBER_CITIES))\n",
    "x"
   ]
  },
  {
   "cell_type": "code",
   "execution_count": 45,
   "metadata": {},
   "outputs": [
    {
     "name": "stdout",
     "output_type": "stream",
     "text": [
      "\n",
      "Path: 5->3->2->1->4->5\n"
     ]
    }
   ],
   "source": [
    "path = []\n",
    "for j in range(NUMBER_CITIES + 1):\n",
    "    for i in range(NUMBER_CITIES):\n",
    "        if x[i, j % NUMBER_CITIES] == 1:\n",
    "            path.append(str(i + 1))\n",
    "print(f\"\\nPath: {'->'.join(path)}\")"
   ]
  },
  {
   "cell_type": "code",
   "execution_count": null,
   "metadata": {},
   "outputs": [],
   "source": []
  },
  {
   "cell_type": "code",
   "execution_count": null,
   "metadata": {},
   "outputs": [],
   "source": []
  },
  {
   "cell_type": "code",
   "execution_count": 46,
   "metadata": {},
   "outputs": [
    {
     "data": {
      "text/plain": [
       "(-151.0, (0, 1, 2, 4, 3))"
      ]
     },
     "execution_count": 46,
     "metadata": {},
     "output_type": "execute_result"
    }
   ],
   "source": [
    "from itertools import permutations, product\n",
    "from copy import copy\n",
    "\n",
    "min_energy = 10**6\n",
    "order = None\n",
    "energies = []\n",
    "for order_cities in product(range(5), repeat=5):\n",
    "    if len(set(order_cities)) < 5:\n",
    "        continue\n",
    "        \n",
    "#     if not all(x == y for x, y in zip(order_cities, [4, 2, 1, 0, 3])):\n",
    "#         continue\n",
    "    \n",
    "    x = np.zeros((NUMBER_CITIES, NUMBER_CITIES))\n",
    "    for step, city in enumerate(order_cities):\n",
    "        x[city, step] = 1\n",
    "    x = x.reshape((-1, ))\n",
    "    \n",
    "    energies.append(x@Q@x)\n",
    "    if x@Q@x < min_energy:\n",
    "        min_energy = x@Q@x\n",
    "        order = copy(order_cities)\n",
    "        \n",
    "min_energy, order"
   ]
  },
  {
   "cell_type": "code",
   "execution_count": null,
   "metadata": {},
   "outputs": [],
   "source": []
  }
 ],
 "metadata": {
  "kernelspec": {
   "display_name": "quazik",
   "language": "python",
   "name": "quazik"
  },
  "language_info": {
   "codemirror_mode": {
    "name": "ipython",
    "version": 3
   },
   "file_extension": ".py",
   "mimetype": "text/x-python",
   "name": "python",
   "nbconvert_exporter": "python",
   "pygments_lexer": "ipython3",
   "version": "3.8.11"
  }
 },
 "nbformat": 4,
 "nbformat_minor": 4
}
