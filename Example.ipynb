{
 "cells": [
  {
   "cell_type": "code",
   "execution_count": 1,
   "metadata": {},
   "outputs": [],
   "source": [
    "from qboard import Solver\n",
    "import numpy as np\n",
    "\n",
    "from config import PARAMS"
   ]
  },
  {
   "cell_type": "code",
   "execution_count": 2,
   "metadata": {},
   "outputs": [],
   "source": [
    "s = Solver(mode=\"remote:gurobi\", params=PARAMS)"
   ]
  },
  {
   "cell_type": "code",
   "execution_count": 3,
   "metadata": {},
   "outputs": [
    {
     "name": "stdout",
     "output_type": "stream",
     "text": [
      "[2021-10-23 10:59:05] Solver remote:gurobi started\n",
      "[2021-10-23 10:59:05] Server status - 0 active tasks\n",
      "[2021-10-23 10:59:05] Start matrix upload\n",
      "[2021-10-23 10:59:05] Upload completed, start solving\n",
      "[2021-10-23 10:59:06] Found solution 0.000000 \n",
      "[2021-10-23 10:59:06] Found solution -2.235300 \n",
      "[2021-10-23 10:59:06] Found solution -4.706392 \n",
      "[2021-10-23 10:59:06] Solver completed, solution type - optimal mipgap=0.0\n"
     ]
    },
    {
     "data": {
      "text/plain": [
       "([1, 0, 1, 1, 1], -4.706392312377499)"
      ]
     },
     "execution_count": 3,
     "metadata": {},
     "output_type": "execute_result"
    }
   ],
   "source": [
    "Q = np.random.randn(5,5)\n",
    "\n",
    "spins, energy = s.solve_qubo(Q, timeout=30)\n",
    "spins, energy"
   ]
  },
  {
   "cell_type": "code",
   "execution_count": null,
   "metadata": {},
   "outputs": [],
   "source": []
  }
 ],
 "metadata": {
  "kernelspec": {
   "display_name": "quazik",
   "language": "python",
   "name": "quazik"
  },
  "language_info": {
   "codemirror_mode": {
    "name": "ipython",
    "version": 3
   },
   "file_extension": ".py",
   "mimetype": "text/x-python",
   "name": "python",
   "nbconvert_exporter": "python",
   "pygments_lexer": "ipython3",
   "version": "3.8.11"
  }
 },
 "nbformat": 4,
 "nbformat_minor": 4
}
